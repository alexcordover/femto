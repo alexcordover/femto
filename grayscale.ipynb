{
 "cells": [
  {
   "cell_type": "code",
   "execution_count": 2,
   "metadata": {
    "collapsed": true
   },
   "outputs": [],
   "source": [
    "import numpy as np\n",
    "import math\n",
    "import colorsys\n",
    "from scipy import ndimage\n",
    "from scipy import misc\n",
    "from sklearn.cluster import KMeans\n",
    "from sklearn.utils import shuffle\n",
    "import json\n",
    "\n",
    "'''\n",
    "Constants\n",
    "'''\n",
    "images =['image11.TIFF'] #populate images here\n",
    "num_vecs = 256\n",
    "decimals_a = 4\n",
    "decimals_b = 2\n",
    "decimals_c = 5\n",
    "\n",
    "'''\n",
    "Helper Functions\n",
    "'''\n",
    "def svd_recon_components(arr,n_vec,n1,n2,n3):\n",
    "    u, s, v = np.linalg.svd(arr)\n",
    "    return [np.round(u[:, :n_vec],decimals=n1),np.round(s[:n_vec],decimals=n2),np.round(v[:n_vec, :],decimals=n3)]\n",
    "\n",
    "'''\n",
    "CODE STARTS HERE\n",
    "'''\n",
    "\n",
    "for img_name in images:\n",
    "    img = misc.imread('images/'+img_name,flatten=True)\n",
    "    (a,b,c) = svd_recon_components(img,num_vecs,decimals_a,decimals_b,decimals_c)\n",
    "    \n",
    "    json_dict = {}\n",
    "    json_dict['a'] = a.tolist()\n",
    "    json_dict['b'] = b.tolist()\n",
    "    json_dict['c'] = c.tolist()\n",
    "\n",
    "    with open('images_out/'+img_name+'grayscale_data.json','w') as outfile:\n",
    "        json.dump(json_dict,outfile)\n",
    "\n",
    "!gzip images_out/*.json\n"
   ]
  },
  {
   "cell_type": "code",
   "execution_count": null,
   "metadata": {
    "collapsed": true
   },
   "outputs": [],
   "source": []
  }
 ],
 "metadata": {
  "kernelspec": {
   "display_name": "Python 3",
   "language": "python",
   "name": "python3"
  },
  "language_info": {
   "codemirror_mode": {
    "name": "ipython",
    "version": 3
   },
   "file_extension": ".py",
   "mimetype": "text/x-python",
   "name": "python",
   "nbconvert_exporter": "python",
   "pygments_lexer": "ipython3",
   "version": "3.4.3"
  }
 },
 "nbformat": 4,
 "nbformat_minor": 0
}
