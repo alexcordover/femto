{
 "cells": [
  {
   "cell_type": "code",
   "execution_count": 46,
   "metadata": {
    "collapsed": true
   },
   "outputs": [],
   "source": [
    "import numpy as np\n",
    "import math\n",
    "import colorsys\n",
    "from scipy import ndimage\n",
    "from scipy import misc\n",
    "from sklearn.cluster import KMeans\n",
    "from sklearn.utils import shuffle\n",
    "import json"
   ]
  },
  {
   "cell_type": "code",
   "execution_count": 47,
   "metadata": {
    "collapsed": true
   },
   "outputs": [],
   "source": [
    "#converts 1d array into a 2d array where rows are w long\n",
    "def arr_reshape(arr,w):\n",
    "    l = len(arr)\n",
    "    p = math.ceil(l/w)\n",
    "    out = []\n",
    "    for i in range(p):\n",
    "        out.append(arr[i*w:(i+1)*w])\n",
    "    return out\n",
    "\n",
    "#return a,b,c components we use for reconstruction\n",
    "def svd_recon_components(arr,num_eigenvecs,a_decimals,b_decimals,c_decimals):\n",
    "    u, s, v = np.linalg.svd(arr)\n",
    "    return [np.round(u[:, :n_vec],decimals=a_decimals),np.round(s[:n_vec],decimals=b_decimals),np.round(v[:n_vec, :],decimals=c_decimals)]\n",
    "\n",
    "#runs kmeans on a matrix and creates a kstring\n",
    "def kmeans_serialize_clusters(arr,n_clusts,num_decimals):\n",
    "    #changing 1d array to 2d array in order run kmeans instead of using some sort of binning algorithm\n",
    "    sample = list(zip(shuffle(arr.flatten(), random_state=0)[:1500],[0]*1500))\n",
    "    kmeans = KMeans(n_clusters=n_clusts, random_state=0).fit(sample)\n",
    "    clusters = np.round(kmeans.cluster_centers_,decimals=num_decimals)[:,0]\n",
    "    k= list(map(lambda x: kmeans.predict(list(map(lambda y: [y,0],x))),arr))\n",
    "    k_string = ''.join(list(map(lambda x: ''.join(list(map(chr,x))),k)))\n",
    "    return clusters.tolist(),k_string\n",
    "\n",
    "#changes kstrings back to into component matrix. THIS WOULD ESSENTIALLY RUN IN THE BROWSER\n",
    "def kmeans_unserializer(kstring,clusters,w):\n",
    "    t= []\n",
    "    for k in kstring:\n",
    "        t.append(clusters[ord(k)])\n",
    "    return arr_reshape(t,w)"
   ]
  },
  {
   "cell_type": "code",
   "execution_count": 48,
   "metadata": {
    "collapsed": false
   },
   "outputs": [],
   "source": [
    "#Declaring global vars\n",
    "h_eigenvecs,s_eigenvecs,v_eigenvecs = (512,512,512) #number of eigenvectors to use for hue,saturation,value (respectively)\n",
    "decimals_a,decimals_b,decimals_c =(4,2,5) #number of decimal places to use for a,b,c reconstruction components\n",
    "kstring_clusters =64\n",
    "img_name ='image5.jpg'\n",
    "num_color_clusters = 256\n",
    "nth_col = 7 #remove every nth col #make sure image width is not divisible by number reason:reeeeeeeeeee"
   ]
  },
  {
   "cell_type": "code",
   "execution_count": 49,
   "metadata": {
    "collapsed": false
   },
   "outputs": [
    {
     "name": "stdout",
     "output_type": "stream",
     "text": [
      "(720, 1280, 3)\n",
      "CPU times: user 5.28 s, sys: 562 ms, total: 5.84 s\n",
      "Wall time: 5.97 s\n"
     ]
    }
   ],
   "source": [
    "%%time\n",
    "#Read in rgb image. Tested and worked on TIFF and jpg.\n",
    "img = misc.imread('images/'+img_name).astype(float)\n",
    "h, w, d = original_shape = tuple(img.shape)\n",
    "print(original_shape)\n",
    "assert d == 3 #Basically we want to make sure we have an rgb image not a rgba one\n",
    "\n",
    "#Doing a double map with colorsys.rgb_to_hsv is slow ;__; so we'll kmeans and then predict\n",
    "img_arr_sample = shuffle(np.reshape(img, (w * h, d)), random_state=0)[:1000]\n",
    "color_kmeans = KMeans(n_clusters=num_color_clusters, random_state=0).fit(img_arr_sample)\n",
    "color_clusters = np.array(list(map(lambda x: colorsys.rgb_to_hsv(x[0]/255,x[1]/255,x[2]/255),color_kmeans.cluster_centers_)))\n",
    "\n",
    "#use predict to get hsv vals and then reshape in order to column extract hsv\n",
    "hsv_arr = np.reshape(np.array(list(map(lambda x: color_clusters[x],list(map(color_kmeans.predict,img))))), (w * h, d))\n",
    "\n",
    "#column extract hue,sat,val arrays and reshape\n",
    "h_arr = arr_reshape(hsv_arr[:,0],w)\n",
    "s_arr = arr_reshape(hsv_arr[:,1],w)\n",
    "v_arr = arr_reshape(hsv_arr[:,2],w)\n",
    "\n",
    "#time to remove columns"
   ]
  },
  {
   "cell_type": "code",
   "execution_count": 43,
   "metadata": {
    "collapsed": false
   },
   "outputs": [
    {
     "data": {
      "text/plain": [
       "array([   0.611678 ,    0.3277592,  224.25     ])"
      ]
     },
     "execution_count": 43,
     "metadata": {},
     "output_type": "execute_result"
    }
   ],
   "source": [
    "#remove every nth column\n",
    "def remove_col(arr,n_col):\n",
    "    res = []\n",
    "    r_max = len(arr)\n",
    "    c_max = len(arr[0])\n",
    "    for i in range(r_max):\n",
    "        for j in range(c_max):\n",
    "            if (j)"
   ]
  },
  {
   "cell_type": "code",
   "execution_count": null,
   "metadata": {
    "collapsed": true
   },
   "outputs": [],
   "source": []
  }
 ],
 "metadata": {
  "kernelspec": {
   "display_name": "IPython (Python 3)",
   "language": "python",
   "name": "python3"
  },
  "language_info": {
   "codemirror_mode": {
    "name": "ipython",
    "version": 3
   },
   "file_extension": ".py",
   "mimetype": "text/x-python",
   "name": "python",
   "nbconvert_exporter": "python",
   "pygments_lexer": "ipython3",
   "version": "3.5.1"
  }
 },
 "nbformat": 4,
 "nbformat_minor": 0
}
