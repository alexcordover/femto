{
 "cells": [
  {
   "cell_type": "code",
   "execution_count": null,
   "metadata": {
    "collapsed": true
   },
   "outputs": [],
   "source": [
    "import json\n",
    "from scipy import misc\n",
    "\n",
    "names_of_text_files = ['/images_out/'] #name of extracted text file\n",
    "word = 'grayscale'\n",
    "\n",
    "for item in names_of_text_file:\n",
    "    if word in item:\n",
    "        text_obj = json.loads(item)\n",
    "        re_matrix = np.matrix(text_obj[a]) * np.diag(text_obj[b]) * np.matrix(text_obj[c])\n",
    "        misc.imsave('grayscale_'+name_of_text_file,np.asarray(re_matrix))\n"
   ]
  }
 ],
 "metadata": {
  "kernelspec": {
   "display_name": "Python 3",
   "language": "python",
   "name": "python3"
  },
  "language_info": {
   "codemirror_mode": {
    "name": "ipython",
    "version": 3
   },
   "file_extension": ".py",
   "mimetype": "text/x-python",
   "name": "python",
   "nbconvert_exporter": "python",
   "pygments_lexer": "ipython3",
   "version": "3.4.3"
  }
 },
 "nbformat": 4,
 "nbformat_minor": 0
}
