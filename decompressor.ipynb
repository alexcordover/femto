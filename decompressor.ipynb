{
 "cells": [
  {
   "cell_type": "code",
   "execution_count": 23,
   "metadata": {
    "collapsed": false
   },
   "outputs": [],
   "source": [
    "import json\n",
    "from scipy import misc\n",
    "import numpy as np\n",
    "\n",
    "names_of_text_files = ['/home/alex/Spark/images_out/image11.TIFFgrayscale_data.json'] #absolute path of txt file\n",
    "word = 'grayscale'\n",
    "\n",
    "for i in range(len(names_of_text_files)):\n",
    "    if word in names_of_text_files[i]:\n",
    "        with open(names_of_text_files[i]) as openFile:\n",
    "            text_obj = json.load(openFile)\n",
    "            re_matrix = np.matrix(text_obj['a']) * np.diag(text_obj['b']) * np.matrix(text_obj['c'])\n",
    "            misc.imsave('/home/alex/Spark/images_out/grayscale_reconstruction'+str(i)+'.TIFF',np.asarray(re_matrix))\n"
   ]
  },
  {
   "cell_type": "code",
   "execution_count": null,
   "metadata": {
    "collapsed": true
   },
   "outputs": [],
   "source": []
  },
  {
   "cell_type": "code",
   "execution_count": null,
   "metadata": {
    "collapsed": true
   },
   "outputs": [],
   "source": []
  }
 ],
 "metadata": {
  "kernelspec": {
   "display_name": "Python 3",
   "language": "python",
   "name": "python3"
  },
  "language_info": {
   "codemirror_mode": {
    "name": "ipython",
    "version": 3
   },
   "file_extension": ".py",
   "mimetype": "text/x-python",
   "name": "python",
   "nbconvert_exporter": "python",
   "pygments_lexer": "ipython3",
   "version": "3.4.3"
  }
 },
 "nbformat": 4,
 "nbformat_minor": 0
}
